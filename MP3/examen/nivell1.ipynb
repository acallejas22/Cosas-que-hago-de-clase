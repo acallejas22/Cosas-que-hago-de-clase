{
 "cells": [
  {
   "cell_type": "markdown",
   "id": "fdaa6fe5-a80d-4673-ab95-5859bbd0b6f2",
   "metadata": {},
   "source": [
    "# Nivell 1 (màxim 5 punts)"
   ]
  },
  {
   "cell_type": "markdown",
   "id": "e3b4ea48-2cb1-4ff6-b2f0-c2a631d05d2b",
   "metadata": {},
   "source": [
    "## Pregunta 1 (1 punt)"
   ]
  },
  {
   "cell_type": "markdown",
   "id": "048a569f-5546-474c-9108-fed430deba23",
   "metadata": {},
   "source": [
    "Executa el següent codi en una cel·la:\n",
    "\n",
    "```java\n",
    "for(byte b = 125; b <= 128 && b >= 0; b++)\n",
    "    println(b)\n",
    "```"
   ]
  },
  {
   "cell_type": "code",
   "execution_count": null,
   "id": "d143d56f-09e0-4e9f-aac0-048accd4c1f8",
   "metadata": {
    "tags": []
   },
   "outputs": [],
   "source": [
    "//Escriu i executa el codi aquí\n",
    "for(byte b = 125; b <= 128 && b >= 0; b++)\n",
    "    println(b)"
   ]
  },
  {
   "cell_type": "markdown",
   "id": "3aa5e002-7d9c-4d50-bd94-a7905dc37319",
   "metadata": {},
   "source": [
    "**Respon**:\n",
    "\n",
    "1. Per què no s'imprimeix el 128?\n",
    "\n",
    "2. Per què cal posar la condició b >= 0 ?\n"
   ]
  },
  {
   "cell_type": "markdown",
   "id": "e8e75e51-f5cb-46f5-8092-34f3145ed962",
   "metadata": {},
   "source": [
    "---\n",
    "Resposta 1:\n",
    "\n",
    "     Muestra del 125 al 127 porque la variable tipo byte solo almacena 1 byte de memoria, y 1 byte contiene del caárcter -128 al 127, por lo tato, si b\n",
    "     es menor o igual a 128 y mayor o igual a 0, mostrará los números menores o iguales a 128 y mayores o iguales a 0.\n",
    "     En este caso, como solo almacena un byte, su máximo es el 127, y como el 128 sería -128, no lo muestra, ya que b ha de ser mayor o igual a 0.\n",
    "\n",
    "IMPORTANT: cal raonar la resposta per poder puntuar."
   ]
  },
  {
   "cell_type": "markdown",
   "id": "96326509-87f4-4d70-8d31-cd2e38d0382a",
   "metadata": {},
   "source": [
    "---\n",
    "Resposta 2:\n",
    "\n",
    "Al ser un bucle, b va sumándose hasta llegar al límite de 127 y comenzar desde -128. Sería un bucle infinito y no pararía nunca, así que, el programa se quedaría pensando todo el rato.\n",
    "\n",
    "IMPORTANT: cal raonar la resposta per poder puntuar."
   ]
  },
  {
   "cell_type": "markdown",
   "id": "f3c3e485-34d2-4c5b-b299-111b37988088",
   "metadata": {},
   "source": [
    "## Pregunta 2 (1 punt)"
   ]
  },
  {
   "cell_type": "markdown",
   "id": "2260437d-47e9-4709-b48a-f16ea3f70e0c",
   "metadata": {},
   "source": [
    "Executa el següent codi en una cel·la:\n",
    "\n",
    "```java\n",
    "String lang1 = \"Java\";\n",
    "String lang2 = lang1;\n",
    "println(lang1 == lang2);\n",
    "String lang3 = new String(lang1);\n",
    "println(lang1 == lang3)\n",
    "```"
   ]
  },
  {
   "cell_type": "code",
   "execution_count": 4,
   "id": "78b21702-c475-4aa9-ab6c-1997251eb0ad",
   "metadata": {
    "execution": {
     "iopub.execute_input": "2023-01-16T17:04+0000",
     "iopub.status.busy": "2023-01-16T17:04+0000",
     "iopub.status.idle": "2023-01-16T17:04+0000",
     "shell.execute_reply": "2023-01-16T17:04+0000"
    },
    "tags": []
   },
   "outputs": [
    {
     "name": "stdout",
     "output_type": "stream",
     "text": [
      "true\n",
      "false\n"
     ]
    }
   ],
   "source": [
    "//Escriu i executa el codi aquí\n",
    "String lang1 = \"Java\";\n",
    "String lang2 = lang1;\n",
    "println(lang1 == lang2);\n",
    "String lang3 = new String(lang1);\n",
    "println(lang1 == lang3)"
   ]
  },
  {
   "cell_type": "markdown",
   "id": "2b891786-95e3-4ce6-9bcd-4345fdf02dfe",
   "metadata": {},
   "source": [
    "**Respon**: \n",
    "\n",
    "Per què imprimeix true i false?\n"
   ]
  },
  {
   "cell_type": "markdown",
   "id": "0e443e29-eefc-4943-9908-22e825121671",
   "metadata": {},
   "source": [
    "---\n",
    "Resposta:\n",
    "\n",
    "Imprime true porque la variable string lang 2 es igual a la variable strin lang1.\n",
    "Imprime false porque la variable string lang3 es una nueva variable string llamada lang1 y no tiene que ver con la antigua variable string lang1. \n",
    "\n",
    "IMPORTANT: cal raonar la resposta per poder puntuar."
   ]
  },
  {
   "cell_type": "markdown",
   "id": "fc4c8446-8e5b-4df4-b9e4-82f7dfe73987",
   "metadata": {},
   "source": [
    "## Exercici 1 (1 punt)"
   ]
  },
  {
   "cell_type": "markdown",
   "id": "e701dac0-7f06-4ceb-9f48-009dbfd1be73",
   "metadata": {},
   "source": [
    "Escriu un snippet que, donat un nombre enter positiu, imprimeixi per pantalla tots els seus divisors, excepte sí mateix.\n",
    "\n",
    "_Recordatori:_ un número enter _k_ és divisor d'un número enter _n_ si i només si la divisió entera _n/k_ és exacta, és a dir, no té resta. En altres paraules, si i només si el _n_ mòdul _k_ és igual a 0.\n",
    "\n",
    "Exemples:\n",
    "\n",
    "* Per a n = 6, imprimirà 1 2 3\n",
    "* Per a n = 7, imprimirà 1\n",
    "* Per a n = 10, imprimirà 1 2 5\n",
    "* Per a n = 28, imprimirà 1 2 4 7 14"
   ]
  },
  {
   "cell_type": "code",
   "execution_count": null,
   "id": "40fcb645-da29-41dd-ab53-8e12f7898939",
   "metadata": {
    "tags": []
   },
   "outputs": [],
   "source": [
    "int n = 28;\n",
    "\n",
    "//La teva solució:\n",
    ";\n",
    "\n",
    "for(int i = 1 ; i < n ; i++){//se recorre el array\n",
    "    if(n%i == 0){//creamos condición con el resto de n que tendrá que ser 0\n",
    "            \n",
    "            printf(\" \" + i);//se imprime la solución\n",
    "        }\n",
    "    }\n",
    "\n",
    "print(\",\");\n",
    "\n",
    "int n2 = 10;\n",
    "\n",
    "\n",
    "\n",
    "for(int i = 1 ; i < n2 ; i++){\n",
    "    if(n2%i == 0){\n",
    "            \n",
    "            \n",
    "            print(\" \" + i);\n",
    "        }\n",
    "    }"
   ]
  },
  {
   "cell_type": "markdown",
   "id": "01566c7e-828a-4ded-9da1-240f8560c7fb",
   "metadata": {},
   "source": [
    "## Exercici 2 (1 punt)"
   ]
  },
  {
   "cell_type": "markdown",
   "id": "dd31eb52-c25a-4bdf-a125-049aaef50aa0",
   "metadata": {},
   "source": [
    "Fes un snippet que, donat un número enter N positiu, imprimeixi per pantalla tots els **números perfectes** entre 1 i N.\n",
    "\n",
    "> _Recordatori_: un **número perfecte** és aquell que és igual a la suma de tots els seus divisors enters, inclòs l'1, però sense incloure el mateix número en sí mateix.\n",
    "\n",
    "Per exemple:\n",
    "\n",
    "* El número 6 és perfecte perquè 1 + 2 + 3 = 6\n",
    "* El número 28 és perfecte perquè 1 + 2 + 4 + 7 + 14 = 28"
   ]
  },
  {
   "cell_type": "code",
   "execution_count": 107,
   "id": "ace84db0-b8f9-4ba8-a33d-530cb32d6d13",
   "metadata": {
    "execution": {
     "iopub.execute_input": "2023-01-16T18:07+0000",
     "iopub.status.busy": "2023-01-16T18:07+0000",
     "iopub.status.idle": "2023-01-16T18:07+0000",
     "shell.execute_reply": "2023-01-16T18:07+0000"
    },
    "tags": []
   },
   "outputs": [
    {
     "name": "stdout",
     "output_type": "stream",
     "text": [
      "El número 28 és perfecte perquè 0 + 1 + 3 + 7 + 14 = 28  "
     ]
    }
   ],
   "source": [
    "//Escriu i prova el teu codi aquí\n",
    "int N = 28;\n",
    "int num;\n",
    "int numant = 0;\n",
    "\n",
    "//TODO\n",
    "printf(\"El número %d és perfecte perquè 0\", N);\n",
    "for (int i = 1; i < N - i; i++){//recorremos del 1 a N\n",
    "   \n",
    "    if(n%i == 0){//creamos condición con el resto de n que tendrá que ser 0\n",
    "        num = numant;//el num será el numant\n",
    "        numant += i;//el numant se sumará con i\n",
    "          printf(\" + %d\", numant);\n",
    "         \n",
    "    }\n",
    "    \n",
    "\n",
    "   \n",
    "    }\n",
    "\n",
    " printf( \" = %d  \", N);\n",
    "  \n",
    "//Crea les teves proves aquí:\n",
    "//TODO"
   ]
  },
  {
   "cell_type": "markdown",
   "id": "9f3acb59-4e0f-4d5c-8fdb-eaf5ba0df7d2",
   "metadata": {},
   "source": [
    "## Exercici 3 (1 punt)"
   ]
  },
  {
   "cell_type": "code",
   "execution_count": 167,
   "id": "7025bad6-2f3a-41d2-a0fd-21e39a92e27a",
   "metadata": {
    "execution": {
     "iopub.execute_input": "2023-01-16T18:35+0000",
     "iopub.status.busy": "2023-01-16T18:35+0000",
     "iopub.status.idle": "2023-01-16T18:35+0000",
     "shell.execute_reply": "2023-01-16T18:35+0000"
    },
    "tags": []
   },
   "outputs": [
    {
     "name": "stdout",
     "output_type": "stream",
     "text": [
      "[5, 19, 37, 38, 52, 59, 61, 69, 79, 82, 94, 94, 117, 122, 125, 189, 205, 237, 246, 253, 255, 258, 273, 293, 306, 308, 308, 310, 320, 369, 375, 376, 386, 395, 397, 410, 417, 417, 419, 439, 473, 478, 482, 482, 484, 488, 507, 535, 537, 538, 542, 542, 561, 574, 582, 595, 603, 631, 647, 655, 658, 659, 660, 666, 667, 668, 670, 687, 688, 692, 695, 714, 724, 748, 755, 763, 769, 796, 797, 799, 831, 836, 852, 858, 868, 868, 876, 884, 885, 895, 896, 897, 913, 922, 940, 941, 951, 972, 982, 990]"
     ]
    }
   ],
   "source": [
    "// Codi per a obtenir un array d'enters aleatoris\n",
    "\n",
    "int getRandomNumber(int min, int max) {\n",
    "    int upper = max * 10;\n",
    "    Random random = new Random();\n",
    "    return random.nextInt(upper - min) + min;\n",
    "}\n",
    "\n",
    "int[] createRandomIntArray(int max){\n",
    "    \n",
    "    int[] numbers = new int[max];\n",
    "    for(int i = 0; i < max; i++){\n",
    "        numbers[i] = getRandomNumber(0,max);\n",
    "    }\n",
    "    return numbers;\n",
    "}\n",
    "\n",
    "int[] numbers = createRandomIntArray(100);\n",
    " for(int i = 0; i < numbers.length; i++){//recorre el array\n",
    "    for (int j = i + 1; j < numbers.length; j++){//recorre el array pero va por delante de i\n",
    "     if(numbers[i] > numbers[j]){//si el índice i de numbers es mayor que el índice j de numbers\n",
    "     int aux = numbers[i];//la variable auxiliar será el índice i de numbers\n",
    "         numbers[i] =  numbers[j];//numbers[i] será el índice j de numbers\n",
    "         numbers[j] = aux;//el índice j de numbers será la variable auxiliar\n",
    "     \n",
    "         }\n",
    "\n",
    "    }\n",
    "\n",
    "}\n",
    "print(Arrays.toString(numbers))"
   ]
  },
  {
   "cell_type": "markdown",
   "id": "5341f9c0-dcc0-4c3d-b04e-ee363bad35f1",
   "metadata": {},
   "source": [
    "En aquest exercici has de fer un snippet de codi que calculi, donat l'array _numbers_, i imprimeixi per pantalla **quants** dels números inclosos en l'array són una potència de 2.\n",
    "\n",
    "Per exemple 1, 2, 4, 8, 16 ... són potències de 2 ja que:\n",
    "* 2^0 = 1\n",
    "* 2^1 = 2\n",
    "* 2^2 = 4\n",
    "* 2^3 = 8\n",
    "* 2^4 = 16\n",
    "* etc.\n",
    "\n",
    "Per tant, si ``numbers`` = { 3, 6, 1, 7, 16, 15, 4, 128} el teu snippet imprimirà 4  "
   ]
  },
  {
   "cell_type": "code",
   "execution_count": 163,
   "id": "519d1b1b-c28a-4a1e-871c-759f0d7f2a10",
   "metadata": {
    "execution": {
     "iopub.execute_input": "2023-01-16T18:32+0000",
     "iopub.status.busy": "2023-01-16T18:32+0000",
     "iopub.status.idle": "2023-01-16T18:32+0000",
     "shell.execute_reply": "2023-01-16T18:32+0000"
    },
    "tags": []
   },
   "outputs": [
    {
     "name": "stdout",
     "output_type": "stream",
     "text": [
      " 8"
     ]
    }
   ],
   "source": [
    "\n",
    "int[] numbers = createRandomIntArray(100);\n",
    "int P;\n",
    "int c = 0;\n",
    "\n",
    "for (int i = 0, potencia = 1; P < numbers.length; i++, potencia *= 2) {//recorremos el array con i y potencia, y potencia la incrementamos elevandola a 2.\n",
    "    numbers[i] = potencia;//sustitución del índice i de numbers con potencia\n",
    "       P = numbers[i];//intercambia el índice i de numbers a P\n",
    "    c++;//el contador cuenta las potencias\n",
    "   \n",
    "        }\n",
    " print(\" \" + c); //imprime cuantas potencias hay de 2\n",
    "\n",
    "//TODO (jocs de proves)"
   ]
  },
  {
   "cell_type": "code",
   "execution_count": null,
   "id": "46dfbd40-bcea-41b0-b281-f8c00f58fa5d",
   "metadata": {},
   "outputs": [],
   "source": []
  }
 ],
 "metadata": {
  "kernelspec": {
   "display_name": "Java",
   "language": "java",
   "name": "java"
  },
  "language_info": {
   "codemirror_mode": "java",
   "file_extension": ".jshell",
   "mimetype": "text/x-java-source",
   "name": "Java",
   "pygments_lexer": "java",
   "version": "17.0.5+8-LTS"
  }
 },
 "nbformat": 4,
 "nbformat_minor": 5
}
