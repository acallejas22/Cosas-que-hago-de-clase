{
 "cells": [
  {
   "cell_type": "markdown",
   "id": "54b801d8-b4b0-4b20-a67c-5b701d1e6f56",
   "metadata": {},
   "source": [
    "# Nivell 2 (màxim 2,5 punts)"
   ]
  },
  {
   "cell_type": "markdown",
   "id": "747e1fa9-08e4-4881-a3be-5feb4fdb1057",
   "metadata": {},
   "source": [
    "## Exercici 1 (1 punt)\n",
    "\n",
    "Fes un snippet que, donat un String str, trobi el corresponent String reversat. Un cop tingui els dos strings, haurà de dir si el primer és palíndrom o no.\n",
    "\n",
    "Per exemple:\n",
    "\n",
    "```java\n",
    "String str = \"tururut\";\n",
    "\n",
    "//TODO: Càlcul del revers\n",
    "println(\"Paraula original: \" + str);\n",
    "println(\"Paraula reversada: \" + revers);\n",
    "\n",
    "//TODO: Comprovació si str és palíndrom\n",
    "//boolean isPalindrom;\n",
    "println(str + \" és palíndrom: \" + isPalindrom);\n",
    "```"
   ]
  },
  {
   "cell_type": "code",
   "execution_count": 64,
   "id": "5b3ac07b-ca13-404f-b00d-637f62457a4d",
   "metadata": {
    "execution": {
     "iopub.execute_input": "2023-01-16T18:09+0000",
     "iopub.status.busy": "2023-01-16T18:09+0000",
     "iopub.status.idle": "2023-01-16T18:09+0000",
     "shell.execute_reply": "2023-01-16T18:09+0000"
    },
    "tags": []
   },
   "outputs": [
    {
     "name": "stdout",
     "output_type": "stream",
     "text": [
      "tururut és palíndrom: true\n"
     ]
    }
   ],
   "source": [
    "\n",
    "String str = \"tururut\";\n",
    "String revers;\n",
    "boolean isPalindrom = true;\n",
    "for (int index = str.length() - 1; index >= 0; index--) {//recorres el array a la inversa\n",
    "\n",
    "    revers += str.charAt(index);//invertimos el String\n",
    "}\n",
    "\n",
    "if(str != revers){\n",
    "println(str + \" és palíndrom: \" + isPalindrom);//imprimimos true cuando el String revers es el mismo que el string principal\n",
    "}\n",
    " else if(str == revers){\n",
    "     \n",
    "    isPalindrom = false;\n",
    " println(str + \" no és palíndrom: \" + isPalindrom);//imprimimos false si no lo es\n",
    " \n",
    " }\n",
    "\n"
   ]
  },
  {
   "cell_type": "markdown",
   "id": "89d4609e-c040-4029-bd48-083b931f9f4d",
   "metadata": {},
   "source": [
    "## Exercici 2 (ordenació) (1,5 punts)"
   ]
  },
  {
   "cell_type": "markdown",
   "id": "38fb449c-f92c-423e-9572-098dce117abd",
   "metadata": {},
   "source": [
    "En aquest exercici implementaràs una funció que ordeni els elements d'un array, de menor a major. Treballarem amb arrays de números enters. **No està permès que utilitzis funcions o instruccions pròpies de java**. \n",
    "\n",
    "> Per a resoldre aquest exercici **és obligatori** que segueixis el següent algorisme:\n",
    "\n",
    "```\n",
    "Donada una llista list i una nova llista new_list:\n",
    "Per a cada element l de list, fes:\n",
    "    Per a cada element nl de new_list, fes:\n",
    "        si l és més petit que nl:\n",
    "            insereix l a new_list abans que l'element nl\n",
    "    si l'element l no ha estat inserit:\n",
    "        insereix l al final de new_list\n",
    "```\n",
    "\n"
   ]
  },
  {
   "cell_type": "code",
   "execution_count": 6,
   "id": "e8b88195-f716-494b-984d-1cfd4151029e",
   "metadata": {
    "execution": {
     "iopub.execute_input": "2023-01-02T14:50+0000",
     "iopub.status.busy": "2023-01-02T14:50+0000",
     "iopub.status.idle": "2023-01-02T14:50+0000",
     "shell.execute_reply": "2023-01-02T14:50+0000"
    },
    "tags": []
   },
   "outputs": [],
   "source": [
    "//TODO\n",
    "\n",
    "// Per a resoldre aquest exercici has de generar un array de 1000 d'enters aleatòris\n",
    "// entre 0 i 20000, fent servir el codi que hi ha al nivell 1, \n",
    "// que hauràs d'ordenar de menor a major"
   ]
  },
  {
   "cell_type": "code",
   "execution_count": 111,
   "id": "ccc7279e-e377-4e60-865b-ffc9be899f44",
   "metadata": {
    "execution": {
     "iopub.execute_input": "2023-01-16T18:43+0000",
     "iopub.status.busy": "2023-01-16T18:43+0000",
     "iopub.status.idle": "2023-01-16T18:43+0000",
     "shell.execute_reply": "2023-01-16T18:43+0000"
    },
    "tags": []
   },
   "outputs": [
    {
     "name": "stdout",
     "output_type": "stream",
     "text": [
      "[1, 43, 173, 183, 211, 225, 233, 233, 248, 273, 288, 300, 366, 398, 454, 494, 496, 501, 502, 503, 508, 521, 530, 551, 557, 587, 589, 600, 608, 616, 638, 644, 646, 678, 689, 700, 708, 719, 746, 776, 794, 807, 822, 850, 872, 880, 953, 983, 985, 1001, 1021, 1035, 1050, 1055, 1071, 1082, 1086, 1090, 1090, 1090, 1096, 1107, 1119, 1122, 1132, 1223, 1282, 1318, 1326, 1404, 1411, 1414, 1417, 1457, 1484, 1541, 1545, 1549, 1558, 1585, 1586, 1644, 1721, 1737, 1759, 1768, 1769, 1775, 1782, 1784, 1804, 1831, 1859, 1866, 1884, 1898, 1911, 1927, 1964, 1988]"
     ]
    }
   ],
   "source": [
    "\n",
    "int getRandomNumber(int min, int max) {\n",
    "    int upper = max * 20;//cambiamos para multiplicar por 20 y que llegue a 2000 en vez de 1000\n",
    "    Random random = new Random();\n",
    "    return random.nextInt(upper - min) + min;\n",
    "}\n",
    "\n",
    "int[] createRandomIntArray(int max){\n",
    "    int[] numbers = new int[max];\n",
    "    for(int i = 0; i < max; i++){\n",
    "        numbers[i] = getRandomNumber(0,max);\n",
    "    }\n",
    "    return numbers;\n",
    "}\n",
    "\n",
    "int[] numbers = createRandomIntArray(100);\n",
    "\n",
    "for(int i = 0; i < numbers.length; i++){\n",
    "    for (int j = i + 1; j < numbers.length; j++){\n",
    "     if(numbers[i] > numbers[j]){\n",
    "     int aux = numbers[i];\n",
    "         numbers[i] =  numbers[j];\n",
    "         numbers[j] = aux;\n",
    "     \n",
    "         }\n",
    "\n",
    "    }\n",
    "\n",
    "}\n",
    "print(Arrays.toString(numbers))"
   ]
  }
 ],
 "metadata": {
  "kernelspec": {
   "display_name": "Java",
   "language": "java",
   "name": "java"
  },
  "language_info": {
   "codemirror_mode": "java",
   "file_extension": ".jshell",
   "mimetype": "text/x-java-source",
   "name": "Java",
   "pygments_lexer": "java",
   "version": "17.0.5+8-LTS"
  }
 },
 "nbformat": 4,
 "nbformat_minor": 5
}
